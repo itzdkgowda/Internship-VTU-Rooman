{
 "cells": [
  {
   "cell_type": "code",
   "execution_count": 24,
   "id": "02908f66-f540-4932-b2f7-07214da57bac",
   "metadata": {},
   "outputs": [
    {
     "name": "stdout",
     "output_type": "stream",
     "text": [
      "   SepalLength  SepalWidth  PetalLength  PetalWidth      Species\n",
      "0          5.1         3.5          1.4         0.2  Iris-setosa\n",
      "1          4.9         3.0          1.4         0.2  Iris-setosa\n",
      "2          4.7         3.2          1.3         0.2  Iris-setosa\n",
      "3          4.6         3.1          1.5         0.2  Iris-setosa\n",
      "4          5.0         3.6          1.4         0.2  Iris-setosa\n"
     ]
    }
   ],
   "source": [
    "import pandas as pd\n",
    "\n",
    "# Load the dataset\n",
    "url = 'https://archive.ics.uci.edu/ml/machine-learning-databases/iris/iris.data'\n",
    "columns = ['SepalLength', 'SepalWidth', 'PetalLength', 'PetalWidth', 'Species']\n",
    "iris_df = pd.read_csv(url, header=None, names=columns)\n",
    "\n",
    "# Display the first few rows of the dataset\n",
    "print(iris_df.head())\n"
   ]
  },
  {
   "cell_type": "code",
   "execution_count": 25,
   "id": "33a75ace-ecfc-4867-923f-bfcbd17aad5a",
   "metadata": {},
   "outputs": [
    {
     "name": "stdout",
     "output_type": "stream",
     "text": [
      "['iris-setosa' 'iris-versicolor' 'iris-virginica']\n"
     ]
    }
   ],
   "source": [
    "# Clean the Species column\n",
    "iris_df['Species'] = iris_df['Species'].str.lower().str.strip()\n",
    "\n",
    "# Verify the cleaning\n",
    "print(iris_df['Species'].unique())\n"
   ]
  },
  {
   "cell_type": "code",
   "execution_count": 28,
   "id": "01f585c0-18b3-47f0-923e-e2fc1b055280",
   "metadata": {},
   "outputs": [
    {
     "name": "stdout",
     "output_type": "stream",
     "text": [
      "Mean values: [5.84333333 3.054      3.75866667 1.19866667]\n",
      "Median values: [5.8  3.   4.35 1.3 ]\n"
     ]
    }
   ],
   "source": [
    "import numpy as np\n",
    "\n",
    "# Convert DataFrame to NumPy arrays\n",
    "features = iris_df[['SepalLength', 'SepalWidth', 'PetalLength', 'PetalWidth']].to_numpy()\n",
    "target = iris_df['Species'].to_numpy()\n",
    "\n",
    "# Calculate basic statistics\n",
    "mean_values = np.mean(features, axis=0)\n",
    "median_values = np.median(features, axis=0)\n",
    "\n",
    "print(\"Mean values:\", mean_values)\n",
    "print(\"Median values:\", median_values)\n"
   ]
  },
  {
   "cell_type": "code",
   "execution_count": 30,
   "id": "f66ec702-88b2-4d35-8ab0-cec32cf4f98a",
   "metadata": {},
   "outputs": [],
   "source": [
    "from sklearn.model_selection import train_test_split\n",
    "\n",
    "# Split the dataset\n",
    "X_train, X_test, y_train, y_test = train_test_split(features, target, test_size=0.2, random_state=42)\n"
   ]
  },
  {
   "cell_type": "code",
   "execution_count": 32,
   "id": "d3193510-26d1-42c4-9975-873cb7277be5",
   "metadata": {},
   "outputs": [
    {
     "name": "stdout",
     "output_type": "stream",
     "text": [
      "Model Accuracy: 100.00%\n"
     ]
    }
   ],
   "source": [
    "from sklearn.linear_model import LogisticRegression\n",
    "from sklearn.metrics import accuracy_score\n",
    "\n",
    "# Initialize and train the Logistic Regression model\n",
    "model = LogisticRegression()\n",
    "model.fit(X_train, y_train)\n",
    "\n",
    "# Make predictions on the test set\n",
    "y_pred = model.predict(X_test)\n",
    "\n",
    "# Evaluate the model accuracy\n",
    "accuracy = accuracy_score(y_test, y_pred)\n",
    "print(f\"Model Accuracy: {accuracy * 100:.2f}%\")\n"
   ]
  }
 ],
 "metadata": {
  "kernelspec": {
   "display_name": "Python 3 (ipykernel)",
   "language": "python",
   "name": "python3"
  },
  "language_info": {
   "codemirror_mode": {
    "name": "ipython",
    "version": 3
   },
   "file_extension": ".py",
   "mimetype": "text/x-python",
   "name": "python",
   "nbconvert_exporter": "python",
   "pygments_lexer": "ipython3",
   "version": "3.11.7"
  }
 },
 "nbformat": 4,
 "nbformat_minor": 5
}
